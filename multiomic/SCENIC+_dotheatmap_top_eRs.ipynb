{
 "cells": [
  {
   "attachments": {},
   "cell_type": "markdown",
   "metadata": {},
   "source": [
    "# Dot-heatmap of top eRs"
   ]
  },
  {
   "cell_type": "code",
   "execution_count": null,
   "metadata": {},
   "outputs": [],
   "source": [
    "import warnings\n",
    "warnings.simplefilter(action='ignore', category=FutureWarning)\n",
    "import os, sys\n",
    "_stderr = sys.stderr\n",
    "null = open(os.devnull, 'wb')\n",
    "import numpy as np\n",
    "import pandas as pd\n",
    "import matplotlib.pyplot as plt"
   ]
  },
  {
   "cell_type": "code",
   "execution_count": null,
   "metadata": {},
   "outputs": [],
   "source": [
    "import dill\n",
    "work_dir = '../BS1140'\n",
    "scplus_obj = dill.load(open(os.path.join(work_dir, 'scenicplus/scplus_obj_4Pando.pkl'), 'rb')) # import scenic+ object"
   ]
  },
  {
   "cell_type": "code",
   "execution_count": null,
   "metadata": {},
   "outputs": [
    {
     "data": {
      "text/html": [
       "<div>\n",
       "<style scoped>\n",
       "    .dataframe tbody tr th:only-of-type {\n",
       "        vertical-align: middle;\n",
       "    }\n",
       "\n",
       "    .dataframe tbody tr th {\n",
       "        vertical-align: top;\n",
       "    }\n",
       "\n",
       "    .dataframe thead th {\n",
       "        text-align: right;\n",
       "    }\n",
       "</style>\n",
       "<table border=\"1\" class=\"dataframe\">\n",
       "  <thead>\n",
       "    <tr style=\"text-align: right;\">\n",
       "      <th></th>\n",
       "      <th>eRegulon_cluster</th>\n",
       "    </tr>\n",
       "  </thead>\n",
       "  <tbody>\n",
       "    <tr>\n",
       "      <th>ATTCCTCCATAATCAC-1-BS1140</th>\n",
       "      <td>1-SP1+MAFF+</td>\n",
       "    </tr>\n",
       "    <tr>\n",
       "      <th>TGAAACTGTTAGAGGG-1-BS1140</th>\n",
       "      <td>3-ETS1+ZNF282+</td>\n",
       "    </tr>\n",
       "    <tr>\n",
       "      <th>TTGACATCAGTTTGTG-1-BS1140</th>\n",
       "      <td>1-SP1+MAFF+</td>\n",
       "    </tr>\n",
       "    <tr>\n",
       "      <th>TGCACTTGTTAGGTGC-1-BS1140</th>\n",
       "      <td>1-SP1+MAFF+</td>\n",
       "    </tr>\n",
       "    <tr>\n",
       "      <th>CCCAAACCAGGCAAGC-1-BS1140</th>\n",
       "      <td>8-CREM-BACH2-</td>\n",
       "    </tr>\n",
       "  </tbody>\n",
       "</table>\n",
       "</div>"
      ],
      "text/plain": [
       "                          eRegulon_cluster\n",
       "ATTCCTCCATAATCAC-1-BS1140      1-SP1+MAFF+\n",
       "TGAAACTGTTAGAGGG-1-BS1140   3-ETS1+ZNF282+\n",
       "TTGACATCAGTTTGTG-1-BS1140      1-SP1+MAFF+\n",
       "TGCACTTGTTAGGTGC-1-BS1140      1-SP1+MAFF+\n",
       "CCCAAACCAGGCAAGC-1-BS1140    8-CREM-BACH2-"
      ]
     },
     "metadata": {},
     "output_type": "display_data"
    }
   ],
   "source": [
    "# add eRegulon cluster celltype\n",
    "import pandas as pd\n",
    "eR_celltype = pd.read_csv(work_dir+'/cluster_overlap/eRegulon_celltype.csv', index_col=0)\n",
    "eR_celltype.head()"
   ]
  },
  {
   "cell_type": "code",
   "execution_count": null,
   "metadata": {},
   "outputs": [],
   "source": [
    "scplus_obj.metadata_cell['eR_celltype'] = eR_celltype # add to scenic+ object meta info"
   ]
  },
  {
   "cell_type": "markdown",
   "metadata": {},
   "source": [
    "filter some high quality eRegulons to plot using the correlation between TF expression and target region enrichment scores (AUC values)"
   ]
  },
  {
   "cell_type": "code",
   "execution_count": null,
   "metadata": {},
   "outputs": [
    {
     "name": "stderr",
     "output_type": "stream",
     "text": [
      "/Users/jinhuixin/miniforge3/envs/scenicplus/lib/python3.9/site-packages/scipy/stats/_stats_py.py:4424: ConstantInputWarning: An input array is constant; the correlation coefficient is not defined.\n",
      "  warnings.warn(stats.ConstantInputWarning(msg))\n",
      "/Users/jinhuixin/miniforge3/envs/scenicplus/lib/python3.9/site-packages/scipy/stats/_stats_py.py:4424: ConstantInputWarning: An input array is constant; the correlation coefficient is not defined.\n",
      "  warnings.warn(stats.ConstantInputWarning(msg))\n"
     ]
    }
   ],
   "source": [
    "# visualize the info on both TF genes expression and region accessibility\n",
    "from scenicplus.cistromes import TF_cistrome_correlation, generate_pseudobulks\n",
    "\n",
    "generate_pseudobulks(\n",
    "        scplus_obj = scplus_obj,\n",
    "        variable = 'eR_celltype',\n",
    "        auc_key = 'eRegulon_AUC_filtered',\n",
    "        signature_key = 'Gene_based')\n",
    "generate_pseudobulks(\n",
    "        scplus_obj = scplus_obj,\n",
    "        variable = 'eR_celltype',\n",
    "        auc_key = 'eRegulon_AUC_filtered',\n",
    "        signature_key = 'Region_based')\n",
    "\n",
    "TF_cistrome_correlation(\n",
    "            scplus_obj,\n",
    "            use_pseudobulk = True,\n",
    "            variable = 'eR_celltype',\n",
    "            auc_key = 'eRegulon_AUC_filtered',\n",
    "            signature_key = 'Gene_based',\n",
    "            out_key = 'filtered_gene_based')\n",
    "TF_cistrome_correlation(\n",
    "            scplus_obj,\n",
    "            use_pseudobulk = True,\n",
    "            variable = 'eR_celltype',\n",
    "            auc_key = 'eRegulon_AUC_filtered',\n",
    "            signature_key = 'Region_based',\n",
    "            out_key = 'filtered_region_based')"
   ]
  },
  {
   "cell_type": "code",
   "execution_count": null,
   "metadata": {},
   "outputs": [
    {
     "data": {
      "text/html": [
       "<div>\n",
       "<style scoped>\n",
       "    .dataframe tbody tr th:only-of-type {\n",
       "        vertical-align: middle;\n",
       "    }\n",
       "\n",
       "    .dataframe tbody tr th {\n",
       "        vertical-align: top;\n",
       "    }\n",
       "\n",
       "    .dataframe thead th {\n",
       "        text-align: right;\n",
       "    }\n",
       "</style>\n",
       "<table border=\"1\" class=\"dataframe\">\n",
       "  <thead>\n",
       "    <tr style=\"text-align: right;\">\n",
       "      <th></th>\n",
       "      <th>TF</th>\n",
       "      <th>Cistrome</th>\n",
       "      <th>Rho</th>\n",
       "      <th>P-value</th>\n",
       "      <th>Adjusted_p-value</th>\n",
       "    </tr>\n",
       "  </thead>\n",
       "  <tbody>\n",
       "    <tr>\n",
       "      <th>0</th>\n",
       "      <td>NFATC3</td>\n",
       "      <td>NFATC3_+_(18r)</td>\n",
       "      <td>0.194411</td>\n",
       "      <td>5.669563e-10</td>\n",
       "      <td>9.785246e-10</td>\n",
       "    </tr>\n",
       "    <tr>\n",
       "      <th>1</th>\n",
       "      <td>BATF</td>\n",
       "      <td>BATF_-_(70r)</td>\n",
       "      <td>-0.358076</td>\n",
       "      <td>1.284626e-31</td>\n",
       "      <td>3.837408e-31</td>\n",
       "    </tr>\n",
       "    <tr>\n",
       "      <th>2</th>\n",
       "      <td>TRPS1</td>\n",
       "      <td>TRPS1_-_(25r)</td>\n",
       "      <td>-0.478360</td>\n",
       "      <td>2.567431e-58</td>\n",
       "      <td>1.616788e-57</td>\n",
       "    </tr>\n",
       "    <tr>\n",
       "      <th>3</th>\n",
       "      <td>REL</td>\n",
       "      <td>REL_-_(31r)</td>\n",
       "      <td>0.022617</td>\n",
       "      <td>4.749794e-01</td>\n",
       "      <td>5.171504e-01</td>\n",
       "    </tr>\n",
       "    <tr>\n",
       "      <th>4</th>\n",
       "      <td>KLF2</td>\n",
       "      <td>KLF2_+_(265r)</td>\n",
       "      <td>0.723980</td>\n",
       "      <td>3.988406e-163</td>\n",
       "      <td>1.858597e-161</td>\n",
       "    </tr>\n",
       "  </tbody>\n",
       "</table>\n",
       "</div>"
      ],
      "text/plain": [
       "       TF        Cistrome       Rho        P-value  Adjusted_p-value\n",
       "0  NFATC3  NFATC3_+_(18r)  0.194411   5.669563e-10      9.785246e-10\n",
       "1    BATF    BATF_-_(70r) -0.358076   1.284626e-31      3.837408e-31\n",
       "2   TRPS1   TRPS1_-_(25r) -0.478360   2.567431e-58      1.616788e-57\n",
       "3     REL     REL_-_(31r)  0.022617   4.749794e-01      5.171504e-01\n",
       "4    KLF2   KLF2_+_(265r)  0.723980  3.988406e-163     1.858597e-161"
      ]
     },
     "metadata": {},
     "output_type": "display_data"
    }
   ],
   "source": [
    "scplus_obj.uns['TF_cistrome_correlation']['filtered_region_based'].head()"
   ]
  },
  {
   "attachments": {},
   "cell_type": "markdown",
   "metadata": {},
   "source": [
    "### Calculate the RSS (regulon specificity score) of TFs"
   ]
  },
  {
   "cell_type": "code",
   "execution_count": null,
   "metadata": {},
   "outputs": [],
   "source": [
    "from scenicplus.RSS import *\n",
    "regulon_specificity_scores(\n",
    "        scplus_obj,\n",
    "        variable = 'eR_celltype',\n",
    "        auc_key = 'eRegulon_AUC_filtered',\n",
    "        signature_keys = ['Region_based'],\n",
    "        selected_regulons = [x for x in scplus_obj.uns['selected_eRegulon']['Region_based'] if '-' not in x],\n",
    "        out_key_suffix = '_filtered')"
   ]
  },
  {
   "attachments": {},
   "cell_type": "markdown",
   "metadata": {},
   "source": [
    "### Get top eR in each eRegulon cluster"
   ]
  },
  {
   "cell_type": "code",
   "execution_count": null,
   "metadata": {},
   "outputs": [],
   "source": [
    "import scanpy as sc\n",
    "adata = sc.read_h5ad('/Users/jinhuixin/Master/thesis/GRN/BS1140/eRegulon_cluster/eR_cluster_anndata.h5ad')"
   ]
  },
  {
   "cell_type": "code",
   "execution_count": null,
   "metadata": {},
   "outputs": [],
   "source": [
    "eR_list = list()\n",
    "for group in range(9): \n",
    "    eR_list += sc.get.rank_genes_groups_df(adata, group=str(group))['names'][:10].tolist()"
   ]
  },
  {
   "cell_type": "code",
   "execution_count": null,
   "metadata": {},
   "outputs": [
    {
     "name": "stdout",
     "output_type": "stream",
     "text": [
      "selected: 34 eRegulons\n"
     ]
    }
   ],
   "source": [
    "# gene-based and region-based top eR sets\n",
    "selected_eRegulons_gene_sig = [\n",
    "        x for x in scplus_obj.uns['eRegulon_signatures_filtered']['Gene_based'].keys()\n",
    "        if x in eR_list]\n",
    "selected_eRegulons_region_sig = [\n",
    "        x for x in scplus_obj.uns['eRegulon_signatures_filtered']['Region_based'].keys()\n",
    "        if x in eR_list]\n",
    "#save the results in the scenicplus object\n",
    "scplus_obj.uns['selected_eRegulon'] = {'Gene_based': selected_eRegulons_gene_sig, 'Region_based': selected_eRegulons_region_sig}\n",
    "print(f'selected: {len(selected_eRegulons_gene_sig)} eRegulons')"
   ]
  },
  {
   "attachments": {},
   "cell_type": "markdown",
   "metadata": {},
   "source": [
    "modify some SCENIC+ functions"
   ]
  },
  {
   "cell_type": "code",
   "execution_count": null,
   "metadata": {},
   "outputs": [],
   "source": [
    "import plotnine\n",
    "from plotnine import ggplot, geom_point, aes, scale_fill_distiller, theme_bw, geom_tile, theme, element_text, element_blank\n",
    "from plotnine.facets import facet_grid\n",
    "def generate_dotplot_df_modified(\n",
    "    scplus_obj: SCENICPLUS,\n",
    "    size_matrix: pd.DataFrame,\n",
    "    color_matrix: pd.DataFrame,\n",
    "    scale_size_matrix: bool = True,\n",
    "    scale_color_matrix: bool = True,\n",
    "    group_variable: str = None,\n",
    "    subset_eRegulons: list = None) -> pd.DataFrame:\n",
    "    if all(np.isin(size_matrix.columns, scplus_obj.cell_names)):\n",
    "        size_matrix = size_matrix.T\n",
    "    if all(np.isin(size_matrix.index, scplus_obj.cell_names)):\n",
    "        #calculate mean values\n",
    "        if group_variable is None:\n",
    "            raise ValueError('group_variable can not be None when size_matrix is a matrix with cell barcodes on one axis.')\n",
    "        if group_variable not in scplus_obj.metadata_cell.columns:\n",
    "            raise ValueError('group variable must be a column in scplus_obj.metadata_cell')\n",
    "        size_matrix = size_matrix.groupby(scplus_obj.metadata_cell[group_variable]).mean()\n",
    "    if all(np.isin(color_matrix.columns, scplus_obj.cell_names)):\n",
    "        color_matrix = color_matrix.T\n",
    "    if all(np.isin(color_matrix.index, scplus_obj.cell_names)):\n",
    "        #calculate mean values\n",
    "        if group_variable is None:\n",
    "            raise ValueError('group_variable can not be None when color_matrix is a matrix with cell barcodes on one axis.')\n",
    "        if group_variable not in scplus_obj.metadata_cell.columns:\n",
    "            raise ValueError('group variable must be a column in scplus_obj.metadata_cell')\n",
    "        color_matrix = color_matrix.groupby(scplus_obj.metadata_cell[group_variable]).mean()\n",
    "    if not all(np.isin(size_matrix.index, color_matrix.index)):\n",
    "        raise ValueError('size_matrix and color_matrix should have the same values as index.')\n",
    "    size_matrix_features = (\n",
    "        size_matrix.columns.to_list(),                      #full eRegulon name\n",
    "        [f.split('_(')[0] for f in size_matrix.columns],    #eRegulon name without number of targets\n",
    "        [f.split('_')[0] for f in size_matrix.columns])     #tf name\n",
    "    color_matrix_features = (\n",
    "        color_matrix.columns.to_list(),                      #full eRegulon name\n",
    "        [f.split('_(')[0] for f in color_matrix.columns],    #eRegulon name without number of targets\n",
    "        [f.split('_')[0] for f in color_matrix.columns])     #tf name\n",
    "\n",
    "    #put features in same order\n",
    "    #both matrices have eRegulons as features\n",
    "    def _find_idx(l, e):\n",
    "        return [i for i, v in enumerate(l) if v == e]\n",
    "    if all(['_(' in x for x in size_matrix_features[0]]) and all(['_(' in x for x in color_matrix_features[0]]):\n",
    "        if not all(np.isin(size_matrix_features[1], color_matrix_features[1])):\n",
    "            raise ValueError('When two matrices are given with eRegulons as features then the names of these features (without number of targets) should match!')\n",
    "        color_matrix = color_matrix.iloc[\n",
    "            :, flatten_list([_find_idx(color_matrix_features[1], e) for e in size_matrix_features[1]])]\n",
    "    #size matrix has eRegulons as features but color matrix not\n",
    "    elif all(['_(' in x for x in size_matrix_features[0]]):\n",
    "        color_matrix = color_matrix[size_matrix_features[2]]\n",
    "    #color matrix has eRegulons as features but size matrix not\n",
    "    elif all(['_(' in x for x in color_matrix_features[0]]):\n",
    "        size_matrix = size_matrix[color_matrix_features[1]]\n",
    "    #none of the matrices have eRegulons as features\n",
    "    else:\n",
    "        size_matrix = size_matrix[color_matrix_features[1]]\n",
    "    \n",
    "    if subset_eRegulons is not None:\n",
    "        #change to TF names\n",
    "        subset_eRegulons = [x.split('_(')[0] for x in subset_eRegulons]\n",
    "        size_matrix = size_matrix[[x for x in size_matrix if x.split('_(')[0] in subset_eRegulons]]\n",
    "        subset_eRegulons_TF = [x.split('_')[0] for x in subset_eRegulons]\n",
    "        color_matrix = color_matrix[[x for x in color_matrix if x in subset_eRegulons_TF]]\n",
    "    \n",
    "    if scale_size_matrix:\n",
    "        size_matrix = (size_matrix - size_matrix.min()) / (size_matrix.max() - size_matrix.min())\n",
    "    if scale_color_matrix:\n",
    "        color_matrix = (color_matrix - color_matrix.min()) / (color_matrix.max() - color_matrix.min())\n",
    "    \n",
    "    size_matrix_df = size_matrix.stack().reset_index()\n",
    "    color_matrix_df = color_matrix.stack().reset_index()\n",
    "    size_matrix_df.columns = ['index', 'size_name', 'size_val']\n",
    "    color_matrix_df.columns = ['index', 'color_name', 'color_val']\n",
    "    if all(['_(' in x for x in size_matrix_features[0]]) and all(['_(' in x for x in color_matrix_features[0]]):\n",
    "        size_matrix_df['eRegulon_name'] = [x.split('_(')[0] for x in size_matrix_df['size_name']]\n",
    "        color_matrix_df['eRegulon_name'] = [x.split('_(')[0] for x in color_matrix_df['color_name']]\n",
    "        merged_df = size_matrix_df.merge(color_matrix_df, on = ['index', 'eRegulon_name'])\n",
    "        merged_df['TF'] = [x.split('_')[0] for x in merged_df['eRegulon_name']]\n",
    "    else:\n",
    "        size_matrix_df['TF'] = [x.split('_')[0] for x in size_matrix_df['size_name']]\n",
    "        color_matrix_df['TF'] = [x.split('_')[0] for x in color_matrix_df['color_name']]\n",
    "        merged_df = size_matrix_df.merge(color_matrix_df, on = ['index', 'TF'])\n",
    "        if all(['_(' in x for x in size_matrix_features[0]]):\n",
    "            merged_df['eRegulon_name'] = merged_df['size_name']\n",
    "        elif all(['_(' in x for x in color_matrix_features[0]]):\n",
    "            merged_df['eRegulon_name'] = merged_df['color_name']\n",
    "        else:\n",
    "            merged_df['eRegulon_name'] = merged_df['TF']\n",
    "\n",
    "    #for esthetics\n",
    "    merged_df = merged_df[['index', 'TF', 'eRegulon_name', 'size_name', 'color_name', 'size_val', 'color_val']]\n",
    "    return merged_df"
   ]
  },
  {
   "cell_type": "code",
   "execution_count": null,
   "metadata": {},
   "outputs": [],
   "source": [
    "def heatmap_dotplot_modified(\n",
    "    scplus_obj: SCENICPLUS,\n",
    "    size_matrix: pd.DataFrame,\n",
    "    color_matrix: pd.DataFrame,\n",
    "    scale_size_matrix: bool = True,\n",
    "    scale_color_matrix: bool = True,\n",
    "    group_variable: str = None,\n",
    "    subset_eRegulons: list = None,\n",
    "    sort_by: str = 'color_val',\n",
    "    index_order: list = None,\n",
    "    save: str = None,\n",
    "    figsize: tuple = (5, 8),\n",
    "    split_repressor_activator: bool = True,\n",
    "    orientation: str = 'vertical'):\n",
    "    plotting_df = generate_dotplot_df_modified(\n",
    "        scplus_obj = scplus_obj,\n",
    "        size_matrix = size_matrix,\n",
    "        color_matrix = color_matrix,\n",
    "        scale_size_matrix = scale_size_matrix,\n",
    "        scale_color_matrix = scale_color_matrix,\n",
    "        group_variable = group_variable,\n",
    "        subset_eRegulons = subset_eRegulons)\n",
    "    if index_order is not None:\n",
    "        if len(set(index_order) & set(plotting_df['index'])) != len(set(plotting_df['index'])):\n",
    "            Warning('not all indices are provided in index_order, order will not be changed!')\n",
    "        else:\n",
    "            plotting_df['index'] = pd.Categorical(plotting_df['index'], categories = index_order)\n",
    "    #sort values\n",
    "    tmp = plotting_df[['index', 'eRegulon_name', sort_by]\n",
    "        ].pivot_table(index = 'index', columns = 'eRegulon_name'\n",
    "        ).fillna(0)['color_val']\n",
    "    if index_order is not None:\n",
    "        tmp = tmp.loc[index_order]\n",
    "    idx_max = tmp.idxmax(axis = 0)\n",
    "    order = pd.concat([idx_max[idx_max == x] for x in tmp.index.tolist() if len(plotting_df[plotting_df == x]) > 0]).index.tolist()\n",
    "    plotting_df['eRegulon_name'] = pd.Categorical(plotting_df['eRegulon_name'], categories = order)\n",
    "    plotnine.options.figure_size = figsize\n",
    "    if split_repressor_activator:\n",
    "        plotting_df['repressor_activator'] = ['activator' if '+' in n.split('_')[1] and 'extended' not in n or '+' in n.split('_')[2] and 'extended' in n  else 'repressor' for n in plotting_df['eRegulon_name']]\n",
    "        if orientation == 'vertical':\n",
    "            plot = (\n",
    "                ggplot(plotting_df, aes('index', 'eRegulon_name'))\n",
    "                + facet_grid(\n",
    "                    'repressor_activator ~ .', \n",
    "                    scales = \"free\", \n",
    "                    space = {'x': [1], 'y': [sum(plotting_df['repressor_activator'] == 'activator'), sum(plotting_df['repressor_activator'] == 'repressor')]})\n",
    "                + geom_tile(mapping = aes(fill = 'color_val'))\n",
    "                + scale_fill_distiller(type = 'div', palette = 'RdYlBu')\n",
    "                + geom_point(\n",
    "                        mapping = aes(size = 'size_val'),\n",
    "                        colour = \"black\")\n",
    "                + theme(axis_text_x=element_text(rotation=90, hjust=1))\n",
    "                + theme(axis_title_x = element_blank(), axis_title_y = element_blank()))\n",
    "        elif orientation == 'horizontal':\n",
    "            plot = (\n",
    "                ggplot(plotting_df, aes('eRegulon_name', 'index'))\n",
    "                + facet_grid(\n",
    "                    '. ~ repressor_activator', \n",
    "                    scales = \"free\", \n",
    "                    space = {'y': [1], 'x': [sum(plotting_df['repressor_activator'] == 'activator'), sum(plotting_df['repressor_activator'] == 'repressor')]})\n",
    "                + geom_tile(mapping = aes(fill = 'color_val'))\n",
    "                + scale_fill_distiller(type = 'div', palette = 'RdYlBu')\n",
    "                + geom_point(\n",
    "                        mapping = aes(size = 'size_val'),\n",
    "                        colour = \"black\")\n",
    "                + theme(axis_text_x=element_text(rotation=90, hjust=1))\n",
    "                + theme(axis_title_x = element_blank(), axis_title_y = element_blank()))\n",
    "    else:\n",
    "        if orientation == 'vertical':\n",
    "            plot = (\n",
    "                ggplot(plotting_df, aes('index', 'eRegulon_name'))\n",
    "                + geom_tile(mapping = aes(fill = 'color_val'))\n",
    "                + scale_fill_distiller(type = 'div', palette = 'RdYlBu')\n",
    "                + geom_point(\n",
    "                        mapping = aes(size = 'size_val'),\n",
    "                        colour = \"black\")\n",
    "                + theme(axis_title_x = element_blank(), axis_title_y = element_blank()))\n",
    "        elif orientation == 'horizontal':\n",
    "            plot = (\n",
    "                ggplot(plotting_df, aes('eRegulon_name', 'index'))\n",
    "                + geom_tile(mapping = aes(fill = 'color_val'))\n",
    "                + scale_fill_distiller(type = 'div', palette = 'RdYlBu')\n",
    "                + geom_point(\n",
    "                        mapping = aes(size = 'size_val'),\n",
    "                        colour = \"black\")\n",
    "                + theme(axis_title_x = element_blank(), axis_title_y = element_blank()))\n",
    "    if save is not None:\n",
    "        plot.save(save)\n",
    "    else:\n",
    "        return plot"
   ]
  },
  {
   "cell_type": "code",
   "execution_count": null,
   "metadata": {},
   "outputs": [
    {
     "name": "stderr",
     "output_type": "stream",
     "text": [
      "/Users/jinhuixin/miniforge3/envs/scenicplus/lib/python3.9/site-packages/plotnine/ggplot.py:718: PlotnineWarning: Saving 5 x 20 in image.\n",
      "/Users/jinhuixin/miniforge3/envs/scenicplus/lib/python3.9/site-packages/plotnine/ggplot.py:719: PlotnineWarning: Filename: ../BS1140/eRegulon_cluster/heatdotmap_gene_based_top_eRegulon_each_cluster.pdf\n"
     ]
    }
   ],
   "source": [
    "# gene-based dot-heatmap of the set of top eRs in all clusters\n",
    "heatmap_dotplot_modified(\n",
    "        scplus_obj = scplus_obj,\n",
    "        size_matrix = scplus_obj.uns['eRegulon_AUC_filtered']['Gene_based'], #specify what to plot as dot sizes, target gene expression in this case\n",
    "        color_matrix = scplus_obj.to_df('EXP'), #specify  what to plot as colors, TF expression in this case\n",
    "        scale_size_matrix = True,\n",
    "        scale_color_matrix = True,\n",
    "        group_variable = 'eR_celltype',\n",
    "        subset_eRegulons = selected_eRegulons_gene_sig,\n",
    "        index_order = ['0-ZSCAN22+EOMES+', '1-SP1+MAFF+', '2-FOXP1+ARID5B+', '3-ETS1+ZNF282+', '4-ZNF442+ZNF526+', '5-TBX21+RARG+', '6-CREM-ELF1+', '7-ZNF385D+RORC+', '8-CREM-BACH2-', '9-EGR1+FOSB+'],\n",
    "        figsize = (5, 20),\n",
    "        orientation = 'vertical',\n",
    "        save = work_dir+'/eRegulon_cluster/heatdotmap_gene_based_top_eRegulon_each_cluster.pdf'\n",
    "        )"
   ]
  },
  {
   "cell_type": "code",
   "execution_count": null,
   "metadata": {},
   "outputs": [
    {
     "name": "stderr",
     "output_type": "stream",
     "text": [
      "/Users/jinhuixin/miniforge3/envs/scenicplus/lib/python3.9/site-packages/plotnine/ggplot.py:718: PlotnineWarning: Saving 5 x 20 in image.\n",
      "/Users/jinhuixin/miniforge3/envs/scenicplus/lib/python3.9/site-packages/plotnine/ggplot.py:719: PlotnineWarning: Filename: ../BS1140/eRegulon_cluster/heatdotmap_region_based_top_eRegulon_each_cluster.pdf\n"
     ]
    }
   ],
   "source": [
    "# region-based dot-heatmap of the set of top eRs in all clusters\n",
    "heatmap_dotplot_modified(\n",
    "        scplus_obj = scplus_obj,\n",
    "        size_matrix = scplus_obj.uns['eRegulon_AUC_filtered']['Region_based'], #specify what to plot as dot sizes, target gene expression in this case\n",
    "        color_matrix = scplus_obj.to_df('EXP'), #specify  what to plot as colors, TF expression in this case\n",
    "        scale_size_matrix = True,\n",
    "        scale_color_matrix = True,\n",
    "        group_variable = 'eR_celltype',\n",
    "        subset_eRegulons = selected_eRegulons_region_sig,\n",
    "        index_order = ['0-ZSCAN22+EOMES+', '1-SP1+MAFF+', '2-FOXP1+ARID5B+', '3-ETS1+ZNF282+', '4-ZNF442+ZNF526+', '5-TBX21+RARG+', '6-CREM-ELF1+', '7-ZNF385D+RORC+', '8-CREM-BACH2-', '9-EGR1+FOSB+'],\n",
    "        figsize = (5, 20),\n",
    "        orientation = 'vertical',\n",
    "        save = work_dir+'/eRegulon_cluster/heatdotmap_region_based_top_eRegulon_each_cluster.pdf'\n",
    "        )"
   ]
  }
 ],
 "metadata": {
  "language_info": {
   "name": "python"
  },
  "orig_nbformat": 4
 },
 "nbformat": 4,
 "nbformat_minor": 2
}
